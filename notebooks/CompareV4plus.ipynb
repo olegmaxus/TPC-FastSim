{
 "cells": [
  {
   "cell_type": "code",
   "execution_count": 1,
   "metadata": {},
   "outputs": [
    {
     "data": {
      "text/plain": [
       "['/usr/lib/python36.zip',\n",
       " '/usr/lib/python3.6',\n",
       " '/usr/lib/python3.6/lib-dynload',\n",
       " '',\n",
       " '/usr/local/lib/python3.6/dist-packages',\n",
       " '/usr/lib/python3/dist-packages',\n",
       " '/usr/local/lib/python3.6/dist-packages/IPython/extensions',\n",
       " '/home/amaevskiy/TPC/.ipython']"
      ]
     },
     "execution_count": 1,
     "metadata": {},
     "output_type": "execute_result"
    }
   ],
   "source": [
    "import sys\n",
    "sys.path"
   ]
  },
  {
   "cell_type": "code",
   "execution_count": 2,
   "metadata": {},
   "outputs": [
    {
     "data": {
      "text/plain": [
       "['/usr/lib/python36.zip',\n",
       " '/usr/lib/python3.6',\n",
       " '/usr/lib/python3.6/lib-dynload',\n",
       " '',\n",
       " '/usr/local/lib/python3.6/dist-packages',\n",
       " '/usr/lib/python3/dist-packages',\n",
       " '/usr/local/lib/python3.6/dist-packages/IPython/extensions',\n",
       " '/home/amaevskiy/TPC/.ipython',\n",
       " '../']"
      ]
     },
     "execution_count": 2,
     "metadata": {},
     "output_type": "execute_result"
    }
   ],
   "source": [
    "sys.path.append(\"../\")\n",
    "sys.path"
   ]
  },
  {
   "cell_type": "code",
   "execution_count": 3,
   "metadata": {},
   "outputs": [],
   "source": [
    "from data import preprocessing"
   ]
  },
  {
   "cell_type": "code",
   "execution_count": 4,
   "metadata": {},
   "outputs": [],
   "source": [
    "from sklearn.model_selection import train_test_split"
   ]
  },
  {
   "cell_type": "code",
   "execution_count": 5,
   "metadata": {},
   "outputs": [
    {
     "name": "stdout",
     "output_type": "stream",
     "text": [
      "(5000, 8, 16) (5000, 4)\n"
     ]
    }
   ],
   "source": [
    "preprocessing._VERSION = \"data_v4\"\n",
    "\n",
    "data_v4, features_v4 = preprocessing.read_csv_2d(\n",
    "    pad_range=[-3, 5],\n",
    "    time_range=[-7, 9],\n",
    ")\n",
    "\n",
    "_, data_v4, _, features_v4 = train_test_split(\n",
    "    data_v4, features_v4, test_size=0.25, random_state=42\n",
    ")\n",
    "\n",
    "print(data_v4.shape, features_v4.shape)"
   ]
  },
  {
   "cell_type": "code",
   "execution_count": 7,
   "metadata": {},
   "outputs": [
    {
     "name": "stdout",
     "output_type": "stream",
     "text": [
      "(5000, 8, 16) (5000, 6)\n"
     ]
    }
   ],
   "source": [
    "preprocessing._VERSION = \"data_v4plus_shortFixedPt\"\n",
    "\n",
    "preprocessing.raw_to_csv()\n",
    "\n",
    "data_v4plus, features_v4plus = preprocessing.read_csv_2d(\n",
    "    pad_range=[-3, 5],\n",
    "    time_range=[-7, 9],\n",
    "    strict=False,\n",
    ")\n",
    "\n",
    "print(data_v4plus.shape, features_v4plus.shape)"
   ]
  },
  {
   "cell_type": "code",
   "execution_count": 9,
   "metadata": {},
   "outputs": [],
   "source": [
    "from metrics import make_metric_plots\n",
    "\n",
    "def calc_metrics(data1, data2, features1, features2, label1, label2):\n",
    "    features_dict = {\n",
    "        'crossing_angle': (features1[:, 0], features2[:, 0]),\n",
    "        'dip_angle': (features1[:, 1], features2[:, 1]),\n",
    "        'drift_length': (features1[:, 2], features2[:, 2]),\n",
    "        'time_bin_fraction': (features1[:, 2] % 1, features2[:, 2] % 1),\n",
    "        'pad_coord_fraction': (features1[:, 3] % 1, features2[:, 3] % 1),\n",
    "    }\n",
    "\n",
    "    return make_metric_plots(\n",
    "        images_real=data1, images_gen=data2, features=features_dict, \n",
    "        calc_chi2=False, make_pdfs=True, label_real=label1, label_gen=label2\n",
    "    )\n",
    "\n",
    "metric_plot_results = calc_metrics(\n",
    "    data1=data_v4,\n",
    "    data2=data_v4plus,\n",
    "    features1=features_v4,\n",
    "    features2=features_v4plus,\n",
    "    label1=\"old\",\n",
    "    label2=\"new\",\n",
    ")"
   ]
  },
  {
   "cell_type": "code",
   "execution_count": 10,
   "metadata": {},
   "outputs": [],
   "source": [
    "!mkdir CompareV4plus_results"
   ]
  },
  {
   "cell_type": "code",
   "execution_count": 11,
   "metadata": {},
   "outputs": [
    {
     "name": "stdout",
     "output_type": "stream",
     "text": [
      "CompareV4plus_results/Mean0.pdf\n",
      "CompareV4plus_results/Mean1.pdf\n",
      "CompareV4plus_results/Sigma0-2.pdf\n",
      "CompareV4plus_results/Sigma1-2.pdf\n",
      "CompareV4plus_results/Cov01.pdf\n",
      "CompareV4plus_results/Sum.pdf\n",
      "CompareV4plus_results/Mean0_vs_crossing_angle.pdf\n",
      "CompareV4plus_results/Mean1_vs_crossing_angle.pdf\n",
      "CompareV4plus_results/Sigma0-2_vs_crossing_angle.pdf\n",
      "CompareV4plus_results/Sigma1-2_vs_crossing_angle.pdf\n",
      "CompareV4plus_results/Cov01_vs_crossing_angle.pdf\n",
      "CompareV4plus_results/Sum_vs_crossing_angle.pdf\n",
      "CompareV4plus_results/Mean0_vs_dip_angle.pdf\n",
      "CompareV4plus_results/Mean1_vs_dip_angle.pdf\n",
      "CompareV4plus_results/Sigma0-2_vs_dip_angle.pdf\n",
      "CompareV4plus_results/Sigma1-2_vs_dip_angle.pdf\n",
      "CompareV4plus_results/Cov01_vs_dip_angle.pdf\n",
      "CompareV4plus_results/Sum_vs_dip_angle.pdf\n",
      "CompareV4plus_results/Mean0_vs_drift_length.pdf\n",
      "CompareV4plus_results/Mean1_vs_drift_length.pdf\n",
      "CompareV4plus_results/Sigma0-2_vs_drift_length.pdf\n",
      "CompareV4plus_results/Sigma1-2_vs_drift_length.pdf\n",
      "CompareV4plus_results/Cov01_vs_drift_length.pdf\n",
      "CompareV4plus_results/Sum_vs_drift_length.pdf\n",
      "CompareV4plus_results/Mean0_vs_time_bin_fraction.pdf\n",
      "CompareV4plus_results/Mean1_vs_time_bin_fraction.pdf\n",
      "CompareV4plus_results/Sigma0-2_vs_time_bin_fraction.pdf\n",
      "CompareV4plus_results/Sigma1-2_vs_time_bin_fraction.pdf\n",
      "CompareV4plus_results/Cov01_vs_time_bin_fraction.pdf\n",
      "CompareV4plus_results/Sum_vs_time_bin_fraction.pdf\n",
      "CompareV4plus_results/Mean0_vs_pad_coord_fraction.pdf\n",
      "CompareV4plus_results/Mean1_vs_pad_coord_fraction.pdf\n",
      "CompareV4plus_results/Sigma0-2_vs_pad_coord_fraction.pdf\n",
      "CompareV4plus_results/Sigma1-2_vs_pad_coord_fraction.pdf\n",
      "CompareV4plus_results/Cov01_vs_pad_coord_fraction.pdf\n",
      "CompareV4plus_results/Sum_vs_pad_coord_fraction.pdf\n"
     ]
    }
   ],
   "source": [
    "import pathlib\n",
    "\n",
    "def buf_to_file(buf, filename):\n",
    "    with open(filename, 'wb') as f:\n",
    "        f.write(buf.getbuffer())\n",
    "\n",
    "for name, buf in metric_plot_results[\"pdf_plots\"].items():\n",
    "    name = name.replace(\"^\", \"-\").replace(\" \", \"_\")\n",
    "    dest = pathlib.Path(\"CompareV4plus_results\") / f\"{name}.pdf\"\n",
    "    print(dest)\n",
    "    buf_to_file(buf, str(dest))"
   ]
  },
  {
   "cell_type": "code",
   "execution_count": 12,
   "metadata": {},
   "outputs": [
    {
     "name": "stdout",
     "output_type": "stream",
     "text": [
      "Writing CompareV4plus_results/main.tex\n"
     ]
    }
   ],
   "source": [
    "%%writefile CompareV4plus_results/main.tex\n",
    "\n",
    "\\documentclass[11pt,a4paper,english]{article}\n",
    "\\RequirePackage[T1]{fontenc}\n",
    "\\RequirePackage{graphicx}\n",
    "\\usepackage{array}\n",
    "\\usepackage{amsmath}\n",
    "\\usepackage[dvipsnames]{xcolor}\n",
    "\n",
    "\\begin{document}\n",
    "\n",
    "\\begingroup\n",
    "\\tiny\n",
    "\\setlength{\\tabcolsep}{0pt}\n",
    "\\begin{tabular}{>{\\raggedleft}m{.035\\textwidth}>{\\centering}m{.19\\textwidth}>{\\centering}m{.19\\textwidth}>{\\centering}m{.19\\textwidth}>{\\centering}m{.19\\textwidth}>{\\centering\\arraybackslash}m{.19\\textwidth}>{\\centering\\arraybackslash}m{.19\\textwidth}}\n",
    "{\\rotatebox[origin=c]{90}{\\parbox{.18\\textwidth}{\\centering Pad barycenter}}} &\n",
    "\\raisebox{-.5\\height}{\\includegraphics[width=.18\\textwidth,trim=0 10 35 30,clip]{Mean0_vs_crossing_angle.pdf}} &\n",
    "\\raisebox{-.5\\height}{\\includegraphics[width=.18\\textwidth,trim=0 10 35 30,clip]{Mean0_vs_dip_angle.pdf}} &\n",
    "\\raisebox{-.5\\height}{\\includegraphics[width=.18\\textwidth,trim=0 10 35 30,clip]{Mean0_vs_drift_length.pdf}} &\n",
    "\\raisebox{-.5\\height}{\\includegraphics[width=.18\\textwidth,trim=0 10 35 30,clip]{Mean0_vs_time_bin_fraction.pdf}} &\n",
    "\\raisebox{-.5\\height}{\\includegraphics[width=.18\\textwidth,trim=0 10 35 30,clip]{Mean0_vs_pad_coord_fraction.pdf}} \\\\ {\\rotatebox[origin=c]{90}{\\parbox{.18\\textwidth}{\\centering Time barycenter}}} &\n",
    "\\raisebox{-.5\\height}{\\includegraphics[width=.18\\textwidth,trim=0 10 35 30,clip]{Mean1_vs_crossing_angle.pdf}} &\n",
    "\\raisebox{-.5\\height}{\\includegraphics[width=.18\\textwidth,trim=0 10 35 30,clip]{Mean1_vs_dip_angle.pdf}} &\n",
    "\\raisebox{-.5\\height}{\\includegraphics[width=.18\\textwidth,trim=0 10 35 30,clip]{Mean1_vs_drift_length.pdf}} &\n",
    "\\raisebox{-.5\\height}{\\includegraphics[width=.18\\textwidth,trim=0 10 35 30,clip]{Mean1_vs_time_bin_fraction.pdf}} &\n",
    "\\raisebox{-.5\\height}{\\includegraphics[width=.18\\textwidth,trim=0 10 35 30,clip]{Mean1_vs_pad_coord_fraction.pdf}} \\\\ {\\rotatebox[origin=c]{90}{\\parbox{.18\\textwidth}{\\centering Sq. Pad Width}}} &\n",
    "\\raisebox{-.5\\height}{\\includegraphics[width=.18\\textwidth,trim=0 10 35 30,clip]{Sigma0-2_vs_crossing_angle.pdf}} &\n",
    "\\raisebox{-.5\\height}{\\includegraphics[width=.18\\textwidth,trim=0 10 35 30,clip]{Sigma0-2_vs_dip_angle.pdf}} &\n",
    "\\raisebox{-.5\\height}{\\includegraphics[width=.18\\textwidth,trim=0 10 35 30,clip]{Sigma0-2_vs_drift_length.pdf}} &\n",
    "\\raisebox{-.5\\height}{\\includegraphics[width=.18\\textwidth,trim=0 10 35 30,clip]{Sigma0-2_vs_time_bin_fraction.pdf}} &\n",
    "\\raisebox{-.5\\height}{\\includegraphics[width=.18\\textwidth,trim=0 10 35 30,clip]{Sigma0-2_vs_pad_coord_fraction.pdf}} \\\\ {\\rotatebox[origin=c]{90}{\\parbox{.18\\textwidth}{\\centering Sq. Time Width}}} &\n",
    "\\raisebox{-.5\\height}{\\includegraphics[width=.18\\textwidth,trim=0 10 35 30,clip]{Sigma1-2_vs_crossing_angle.pdf}} &\n",
    "\\raisebox{-.5\\height}{\\includegraphics[width=.18\\textwidth,trim=0 10 35 30,clip]{Sigma1-2_vs_dip_angle.pdf}} &\n",
    "\\raisebox{-.5\\height}{\\includegraphics[width=.18\\textwidth,trim=0 10 35 30,clip]{Sigma1-2_vs_drift_length.pdf}} &\n",
    "\\raisebox{-.5\\height}{\\includegraphics[width=.18\\textwidth,trim=0 10 35 30,clip]{Sigma1-2_vs_time_bin_fraction.pdf}} &\n",
    "\\raisebox{-.5\\height}{\\includegraphics[width=.18\\textwidth,trim=0 10 35 30,clip]{Sigma1-2_vs_pad_coord_fraction.pdf}} \\\\ {\\rotatebox[origin=c]{90}{\\parbox{.18\\textwidth}{\\centering Pad-Time Covariance}}} &\n",
    "\\raisebox{-.5\\height}{\\includegraphics[width=.18\\textwidth,trim=0 10 35 30,clip]{Cov01_vs_crossing_angle.pdf}} &\n",
    "\\raisebox{-.5\\height}{\\includegraphics[width=.18\\textwidth,trim=0 10 35 30,clip]{Cov01_vs_dip_angle.pdf}} &\n",
    "\\raisebox{-.5\\height}{\\includegraphics[width=.18\\textwidth,trim=0 10 35 30,clip]{Cov01_vs_drift_length.pdf}} &\n",
    "\\raisebox{-.5\\height}{\\includegraphics[width=.18\\textwidth,trim=0 10 35 30,clip]{Cov01_vs_time_bin_fraction.pdf}} &\n",
    "\\raisebox{-.5\\height}{\\includegraphics[width=.18\\textwidth,trim=0 10 35 30,clip]{Cov01_vs_pad_coord_fraction.pdf}} \\\\ {\\rotatebox[origin=c]{90}{\\parbox{.18\\textwidth}{\\centering Integrated amplitude}}} &\n",
    "\\raisebox{-.5\\height}{\\includegraphics[width=.18\\textwidth,trim=0 10 35 30,clip]{Sum_vs_crossing_angle.pdf}} &\n",
    "\\raisebox{-.5\\height}{\\includegraphics[width=.18\\textwidth,trim=0 10 35 30,clip]{Sum_vs_dip_angle.pdf}} &\n",
    "\\raisebox{-.5\\height}{\\includegraphics[width=.18\\textwidth,trim=0 10 35 30,clip]{Sum_vs_drift_length.pdf}} &\n",
    "\\raisebox{-.5\\height}{\\includegraphics[width=.18\\textwidth,trim=0 10 35 30,clip]{Sum_vs_time_bin_fraction.pdf}} &\n",
    "\\raisebox{-.5\\height}{\\includegraphics[width=.18\\textwidth,trim=0 10 35 30,clip]{Sum_vs_pad_coord_fraction.pdf}} \\\\\n",
    "~ &\n",
    "\\hspace{10pt}\\parbox{.15\\textwidth}{\\centering Crossing angle [deg]} &\n",
    "\\hspace{10pt}\\parbox{.15\\textwidth}{\\centering Dip angle [deg]} &\n",
    "\\hspace{10pt}\\parbox{.15\\textwidth}{\\centering Drift length [time bins]} &\n",
    "\\hspace{10pt}\\parbox{.15\\textwidth}{\\centering Drift length fraction} &\n",
    "\\hspace{10pt}\\parbox{.15\\textwidth}{\\centering Pad coordinate fraction}\n",
    "\\end{tabular}\n",
    "\\endgroup\n",
    "\n",
    "\\end{document}"
   ]
  },
  {
   "cell_type": "code",
   "execution_count": null,
   "metadata": {},
   "outputs": [],
   "source": []
  }
 ],
 "metadata": {
  "kernelspec": {
   "display_name": "Python 3",
   "language": "python",
   "name": "python3"
  },
  "language_info": {
   "codemirror_mode": {
    "name": "ipython",
    "version": 3
   },
   "file_extension": ".py",
   "mimetype": "text/x-python",
   "name": "python",
   "nbconvert_exporter": "python",
   "pygments_lexer": "ipython3",
   "version": "3.6.9"
  }
 },
 "nbformat": 4,
 "nbformat_minor": 4
}
